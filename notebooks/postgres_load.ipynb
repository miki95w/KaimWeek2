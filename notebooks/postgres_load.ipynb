{
 "cells": [
  {
   "cell_type": "code",
   "execution_count": 63,
   "metadata": {},
   "outputs": [],
   "source": [
    "import sys\n",
    "import os\n",
    "sys.path.append(os.path.abspath('../scripts'))\n"
   ]
  },
  {
   "cell_type": "code",
   "execution_count": 76,
   "metadata": {},
   "outputs": [],
   "source": [
    "from load_data import load_data_from_postgres, load_data_using_sqlalchemy"
   ]
  },
  {
   "cell_type": "code",
   "execution_count": 78,
   "metadata": {},
   "outputs": [
    {
     "name": "stdout",
     "output_type": "stream",
     "text": [
      "Error while connecting to PostgreSQL: name 'DB_DATABASE' is not defined\n"
     ]
    },
    {
     "ename": "UnboundLocalError",
     "evalue": "cannot access local variable 'conn' where it is not associated with a value",
     "output_type": "error",
     "traceback": [
      "\u001b[1;31m---------------------------------------------------------------------------\u001b[0m",
      "\u001b[1;31mUnboundLocalError\u001b[0m                         Traceback (most recent call last)",
      "Cell \u001b[1;32mIn[78], line 4\u001b[0m\n\u001b[0;32m      1\u001b[0m query \u001b[38;5;241m=\u001b[39m \u001b[38;5;124m\"\u001b[39m\u001b[38;5;124mSELECT * FROM xdr_data;\u001b[39m\u001b[38;5;124m\"\u001b[39m  \u001b[38;5;66;03m# Replace with your actual query\u001b[39;00m\n\u001b[0;32m      3\u001b[0m \u001b[38;5;66;03m# Using psycopg2\u001b[39;00m\n\u001b[1;32m----> 4\u001b[0m df_psycopg2 \u001b[38;5;241m=\u001b[39m \u001b[43mload_data_from_postgres\u001b[49m\u001b[43m(\u001b[49m\u001b[43mquery\u001b[49m\u001b[43m)\u001b[49m\n\u001b[0;32m      5\u001b[0m \u001b[38;5;28;01mif\u001b[39;00m df_psycopg2 \u001b[38;5;129;01mis\u001b[39;00m \u001b[38;5;129;01mnot\u001b[39;00m \u001b[38;5;28;01mNone\u001b[39;00m:\n\u001b[0;32m      6\u001b[0m     \u001b[38;5;28mprint\u001b[39m(\u001b[38;5;124m\"\u001b[39m\u001b[38;5;124mSuccessfully loaded the data using psycopg2\u001b[39m\u001b[38;5;124m\"\u001b[39m)\n",
      "File \u001b[1;32mc:\\Users\\Mike\\OneDrive\\Desktop\\Kifiya AI\\Week-2\\postgressql\\KaimWeek2\\scripts\\load_data.py:40\u001b[0m, in \u001b[0;36mload_data_from_postgres\u001b[1;34m(query)\u001b[0m\n\u001b[0;32m     36\u001b[0m     \u001b[38;5;28;01mreturn\u001b[39;00m \u001b[38;5;28;01mNone\u001b[39;00m\n\u001b[0;32m     38\u001b[0m \u001b[38;5;28;01mfinally\u001b[39;00m:\n\u001b[0;32m     39\u001b[0m     \u001b[38;5;66;03m# Ensure the connection is closed even if an error occurs\u001b[39;00m\n\u001b[1;32m---> 40\u001b[0m     \u001b[38;5;28;01mif\u001b[39;00m \u001b[43mconn\u001b[49m:\n\u001b[0;32m     41\u001b[0m         conn\u001b[38;5;241m.\u001b[39mclose()\n",
      "\u001b[1;31mUnboundLocalError\u001b[0m: cannot access local variable 'conn' where it is not associated with a value"
     ]
    }
   ],
   "source": [
    "query = \"SELECT * FROM xdr_data;\"  # Replace with your actual query\n",
    "\n",
    "# Using psycopg2\n",
    "df_psycopg2 = load_data_from_postgres(query)\n",
    "if df_psycopg2 is not None:\n",
    "    print(\"Successfully loaded the data using psycopg2\")\n",
    "    print(df_psycopg2)\n",
    "else:\n",
    "    print(\"Failed to load the data using psycopg2\")\n",
    "\n",
    "# Using SQLAlchemy\n",
    "df_sqlalchemy = load_data_using_sqlalchemy(query)\n",
    "if df_sqlalchemy is not None:\n",
    "    print(\"Successfully loaded the data using SQLAlchemy\")\n",
    "    print(df_sqlalchemy)\n",
    "else:\n",
    "    print(\"Failed to load the data using SQLAlchemy\")\n"
   ]
  }
 ],
 "metadata": {
  "kernelspec": {
   "display_name": "postgressql",
   "language": "python",
   "name": "python3"
  },
  "language_info": {
   "codemirror_mode": {
    "name": "ipython",
    "version": 3
   },
   "file_extension": ".py",
   "mimetype": "text/x-python",
   "name": "python",
   "nbconvert_exporter": "python",
   "pygments_lexer": "ipython3",
   "version": "3.12.2"
  }
 },
 "nbformat": 4,
 "nbformat_minor": 2
}
